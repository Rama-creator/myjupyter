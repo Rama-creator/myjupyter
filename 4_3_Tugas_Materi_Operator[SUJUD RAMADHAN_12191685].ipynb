{
 "cells": [
  {
   "cell_type": "code",
   "execution_count": null,
   "metadata": {
    "id": "wOlm8I2lPwa7"
   },
   "outputs": [],
   "source": []
  },
  {
   "cell_type": "markdown",
   "metadata": {
    "id": "xQeqMxskP66X"
   },
   "source": [
    "##Tugas Praktek\n",
    "\n",
    "Buatlah sebuah program yang bisa menentukan suatu nilai pada variable itu genap atau ganjil! Lakukan percobaan dengan langkah berikut:\n",
    "\n",
    "Buat variabel dengan nama “angka” isi dengan nilai 10\n",
    "Ganti bagian … dengan perhitungan untuk menentukan angka modulus 2 bernilai 0.\n",
    "\n",
    "1.   Buat variabel dengan nama **“angka”** isi dengan nilai 10\n",
    "2.   Ganti bagian … dengan perhitungan untuk menentukan angka modulus 2 bernilai 0.\n",
    "\n",
    "\n",
    "Cek apakah benar dia bernilai genap maka keluarkan **\"angka termasuk bilangan genap\"**, jika sudah ganti nilai variable angka dengan nilai 5 cek lagi apakah dia bernilai ganjil dan keluarkan **\"angka termasuk bilangan ganjil\"**.\n",
    "\n",
    "Note: Anda bisa menggunakan materi-materi sebelumnya dengan menggabungkannya di tugas praktek ini untuk membantu anda dalam mengerjakan.\n",
    "\n",
    "\n",
    "Ketikan pada code cell di bawah ini pada editor:"
   ]
  },
  {
   "cell_type": "code",
   "execution_count": 17,
   "metadata": {
    "id": "eAf4FfQ-Qh57"
   },
   "outputs": [
    {
     "ename": "SyntaxError",
     "evalue": "invalid syntax (<ipython-input-17-4cfc9e3e123d>, line 6)",
     "output_type": "error",
     "traceback": [
      "\u001b[1;36m  File \u001b[1;32m\"<ipython-input-17-4cfc9e3e123d>\"\u001b[1;36m, line \u001b[1;32m6\u001b[0m\n\u001b[1;33m    else:\u001b[0m\n\u001b[1;37m    ^\u001b[0m\n\u001b[1;31mSyntaxError\u001b[0m\u001b[1;31m:\u001b[0m invalid syntax\n"
     ]
    }
   ],
   "source": [
    "##Jawaban Tugas Praktek 3.3\n",
    "\n",
    "angka=10\n",
    "if angka%2==0:\n",
    "    print (\"angka termasuk bilangan genap\")\n",
    "    else:\n",
    "        print (\"angka termasuk bilangan ganjil\")\n",
    "\n",
    "angka=5\n",
    "if angka%2==0:\n",
    "    print(\"angka termasuk bilangan genap\")\n",
    "    else:\n",
    "        print(\"angka termasuk bilangan ganjil\")"
   ]
  },
  {
   "cell_type": "code",
   "execution_count": null,
   "metadata": {},
   "outputs": [],
   "source": []
  }
 ],
 "metadata": {
  "colab": {
   "collapsed_sections": [],
   "name": "4.3_Tugas_Materi_Operator.ipynb",
   "provenance": []
  },
  "kernelspec": {
   "display_name": "Python 3",
   "language": "python",
   "name": "python3"
  },
  "language_info": {
   "codemirror_mode": {
    "name": "ipython",
    "version": 3
   },
   "file_extension": ".py",
   "mimetype": "text/x-python",
   "name": "python",
   "nbconvert_exporter": "python",
   "pygments_lexer": "ipython3",
   "version": "3.8.3"
  }
 },
 "nbformat": 4,
 "nbformat_minor": 1
}
